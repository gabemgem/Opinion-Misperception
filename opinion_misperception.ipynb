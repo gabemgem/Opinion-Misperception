{
  "cells": [
    {
      "cell_type": "markdown",
      "metadata": {
        "id": "view-in-github",
        "colab_type": "text"
      },
      "source": [
        "<a href=\"https://colab.research.google.com/github/gabemgem/Opinion-Misperception/blob/main/opinion_misperception.ipynb\" target=\"_parent\"><img src=\"https://colab.research.google.com/assets/colab-badge.svg\" alt=\"Open In Colab\"/></a>"
      ]
    },
    {
      "cell_type": "code",
      "execution_count": null,
      "id": "initial_id",
      "metadata": {
        "collapsed": true,
        "id": "initial_id"
      },
      "outputs": [],
      "source": [
        "import networkx as nx\n",
        "import matplotlib.pyplot as plt\n",
        "import random\n",
        "import numpy as np\n",
        "import pandas as pd"
      ]
    },
    {
      "metadata": {
        "id": "bdb37993e62f7a8c"
      },
      "cell_type": "markdown",
      "source": [
        "# Opinion Misperception Game\n",
        "\n",
        "In this game, we have a set of agents that have some opinion about the world. The opinion is either derived from a signal they receive from the world, or from the agent's partisan preferences. The agents are connected in a network and send messages about their opinion to their neighbors.\n",
        "\n",
        "By changing agent distributions, network structure, and signal distribution, we observe the dynamics of opinion misperception in the network.\n",
        "\n",
        "**Game Flow:**\n",
        "1. Pick $g=\\{0,1\\}$ as the ground truth\n",
        "2. Initialize $n$ agents\n",
        "3. Assign types to agents\n",
        "4. Assign signals to agents\n",
        "5. Assign network connections\n",
        "6. Send messages\n",
        "7. Calculate perceptions and utilities\n",
        "\n",
        "## Parameter Initialization"
      ],
      "id": "bdb37993e62f7a8c"
    },
    {
      "metadata": {
        "id": "5dd3d7132bf885e0"
      },
      "cell_type": "code",
      "outputs": [],
      "execution_count": null,
      "source": [
        "n = 1000 # number of agents\n",
        "m = 5 # number of initial neighbors (correlated to agent \"attention\")\n",
        "alpha = 0.1 # preferential attachment\n",
        "beta = 0.1 # importance of homophily relative to degree\n",
        "gamma = 0.1 # how much minority partisan get higher attention/degree\n",
        "type_distribution = [1, 1] # proportion of agents that are common, maj-partisan, or min-partisan\n",
        "signal_truthiness = 1 # how much signal is correlated with truth\n",
        "message_strategy = 1 # 0=always partisan, 1=truth with %, 2=heuristic message, 3=RL message\n",
        "\n",
        "seed = 123\n",
        "random.seed(seed)\n",
        "# test addition"
      ],
      "id": "5dd3d7132bf885e0"
    },
    {
      "metadata": {
        "id": "e37d74cd7023adcc"
      },
      "cell_type": "markdown",
      "source": [
        "## Network Initialization"
      ],
      "id": "e37d74cd7023adcc"
    },
    {
      "metadata": {
        "id": "b3e6eefbcaebe27a"
      },
      "cell_type": "code",
      "outputs": [],
      "execution_count": null,
      "source": [
        "def initialize_network(n: int) -> nx.Graph:\n",
        "    G = nx.Graph()\n",
        "    G.add_nodes_from(range(n))\n",
        "    return G"
      ],
      "id": "b3e6eefbcaebe27a"
    },
    {
      "metadata": {
        "id": "2e5dd7f62766f1aa"
      },
      "cell_type": "code",
      "outputs": [],
      "execution_count": null,
      "source": [
        "def assign_agent_types(G: nx.Graph, type_distribution: list) -> nx.Graph:\n",
        "    for node in G.nodes:\n",
        "        if random.random() < type_distribution[0]:\n",
        "            G.nodes[node]['type'] = 'common'\n",
        "        elif random.random() < type_distribution[1]:\n",
        "            G.nodes[node]['type'] = 'maj-partisan'\n",
        "        else:\n",
        "            G.nodes[node]['type'] = 'min-partisan'\n",
        "\n",
        "    return G"
      ],
      "id": "2e5dd7f62766f1aa"
    },
    {
      "metadata": {
        "id": "31fe3408a762d9d2"
      },
      "cell_type": "code",
      "outputs": [],
      "execution_count": null,
      "source": [
        "def assign_signals(G: nx.Graph, signal_truthiness: float) -> nx.Graph:\n",
        "    for node in G.nodes:\n",
        "        continue\n",
        "\n",
        "    return G"
      ],
      "id": "31fe3408a762d9d2"
    },
    {
      "metadata": {
        "id": "1d2ef8c56d733e28"
      },
      "cell_type": "code",
      "outputs": [],
      "execution_count": null,
      "source": [
        "def assign_connections(G: nx.Graph, m: int, alpha: float, beta: float, gamma: float) -> nx.Graph:\n",
        "    for node in G.nodes:\n",
        "        continue\n",
        "\n",
        "    return G"
      ],
      "id": "1d2ef8c56d733e28"
    },
    {
      "metadata": {
        "id": "b7e7a8ebdf9f93c"
      },
      "cell_type": "code",
      "outputs": [],
      "execution_count": null,
      "source": [
        "G = initialize_network(n)\n",
        "G = assign_agent_types(G, type_distribution)\n",
        "G = assign_signals(G, signal_truthiness)\n",
        "G = assign_connections(G, m, alpha, beta, gamma)"
      ],
      "id": "b7e7a8ebdf9f93c"
    },
    {
      "metadata": {
        "id": "a756e61e874253a1"
      },
      "cell_type": "markdown",
      "source": [
        "## Send Messages"
      ],
      "id": "a756e61e874253a1"
    },
    {
      "metadata": {
        "id": "db1065571e4bea55"
      },
      "cell_type": "code",
      "outputs": [],
      "execution_count": null,
      "source": [
        "def send_messages(G: nx.Graph, message_strategy: int) -> nx.Graph:\n",
        "    for node in G.nodes:\n",
        "        continue\n",
        "\n",
        "    return G"
      ],
      "id": "db1065571e4bea55"
    },
    {
      "metadata": {
        "id": "aab41738c0fbb395"
      },
      "cell_type": "code",
      "outputs": [],
      "execution_count": null,
      "source": [
        "def play_game(G: nx.Graph, message_strategy: int) -> nx.Graph:\n",
        "    G = send_messages(G, message_strategy)\n",
        "    return G"
      ],
      "id": "aab41738c0fbb395"
    },
    {
      "metadata": {
        "id": "ab9b3584d69b7fd7"
      },
      "cell_type": "code",
      "outputs": [],
      "execution_count": null,
      "source": [
        "G = play_game(G, message_strategy)"
      ],
      "id": "ab9b3584d69b7fd7"
    },
    {
      "metadata": {
        "id": "c81187c2992e0cf0"
      },
      "cell_type": "markdown",
      "source": [
        "## Calculate Perceptions and Utilities"
      ],
      "id": "c81187c2992e0cf0"
    },
    {
      "metadata": {
        "id": "37f726ecc0536669"
      },
      "cell_type": "code",
      "outputs": [],
      "execution_count": null,
      "source": [
        "def average_neighbor_op(G, node):\n",
        "    \"\"\"\n",
        "    Calculate the average 'op' value of all nodes connected to the given node.\n",
        "\n",
        "    Parameters:\n",
        "    G (networkx.Graph): The network\n",
        "    node: The node to analyze\n",
        "\n",
        "    Returns:\n",
        "    float: Average 'op' value of neighboring nodes\n",
        "    \"\"\"\n",
        "    neighbors = list(G.neighbors(node))\n",
        "    if not neighbors:\n",
        "        return None  # Return None if the node has no neighbors\n",
        "    neighbor_ops = [G.nodes[neighbor]['op'] for neighbor in neighbors]\n",
        "    return sum(neighbor_ops) / len(neighbor_ops)\n",
        "\n",
        "def global_average_neighbor_op(G):\n",
        "    \"\"\"\n",
        "    Calculate the average of average neighbor 'op' values for all nodes in the graph.\n",
        "\n",
        "    Parameters:\n",
        "    G (networkx.Graph): The network\n",
        "\n",
        "    Returns:\n",
        "    float: Global average of average neighbor 'op' values\n",
        "    \"\"\"\n",
        "    avg_neighbor_ops = [average_neighbor_op(G, node) for node in G.nodes() if average_neighbor_op(G, node) is not None]\n",
        "    return sum(avg_neighbor_ops) / len(avg_neighbor_ops)\n",
        "\n",
        "def print_stats(G, print_all=True):\n",
        "    \"\"\"\n",
        "    Print various statistics about the network\n",
        "    Args:\n",
        "        G (networkx.Graph): The network\n",
        "\n",
        "    Returns:\n",
        "        Nothing\n",
        "    \"\"\"\n",
        "    if print_all:\n",
        "        # Print network statistics\n",
        "        print(f\"Number of nodes: {G.number_of_nodes()}\")\n",
        "        print(f\"Number of edges: {G.number_of_edges()}\")\n",
        "        print(f\"Average clustering coefficient: {nx.average_clustering(G):.4f}\")\n",
        "        print(f\"Average shortest path length: {nx.average_shortest_path_length(G):.4f}\")\n",
        "\n",
        "    # Count nodes with op=1 and op=0\n",
        "    op_1_count = sum(1 for _, data in G.nodes(data=True) if data['op'] == 1)\n",
        "    op_0_count = G.number_of_nodes() - op_1_count\n",
        "    print(f\"Nodes with op=1: {op_1_count} ({op_1_count/G.number_of_nodes()*100:.2f}%)\")\n",
        "    print(f\"Nodes with op=0: {op_0_count} ({op_0_count/G.number_of_nodes()*100:.2f}%)\")\n",
        "\n",
        "    # Analyze relationship between degree and op value\n",
        "    degrees = dict(G.degree())\n",
        "    op_values = nx.get_node_attributes(G, 'op')\n",
        "    degree_op_1 = [degree for node, degree in degrees.items() if op_values[node] == 1]\n",
        "    degree_op_0 = [degree for node, degree in degrees.items() if op_values[node] == 0]\n",
        "\n",
        "    print(f\"\\nAverage degree of nodes with op=1: {np.mean(degree_op_1):.2f}\")\n",
        "    print(f\"Average degree of nodes with op=0: {np.mean(degree_op_0):.2f}\")\n",
        "\n",
        "    # Demonstrate the use of average_neighbor_op function\n",
        "    # print(\"\\nDemonstrating average_neighbor_op function:\")\n",
        "    # for i in range(5):  # Show results for first 5 nodes\n",
        "    #     avg_op = average_neighbor_op(G, i)\n",
        "    #     print(f\"Node {i}: op = {G.nodes[i]['op']}, average neighbor op = {avg_op:.2f}\")\n",
        "\n",
        "    # Calculate and print global average of neighbor op values using the new function\n",
        "    global_avg = global_average_neighbor_op(G)\n",
        "    print(f\"\\nGlobal average of average neighbor op values: {global_avg:.4f}\")\n",
        "\n",
        "    # Analyze correlation between a node's op and its average neighbor op\n",
        "    node_ops = [G.nodes[node]['op'] for node in G.nodes()]\n",
        "    avg_neighbor_ops = [average_neighbor_op(G, node) for node in G.nodes()]\n",
        "    correlation = np.corrcoef(node_ops, avg_neighbor_ops)[0, 1]\n",
        "    print(f\"Correlation between node op and average neighbor op: {correlation:.4f}\")"
      ],
      "id": "37f726ecc0536669"
    },
    {
      "metadata": {
        "id": "ad62c4c68aab1de7"
      },
      "cell_type": "markdown",
      "source": [
        "## Visualization"
      ],
      "id": "ad62c4c68aab1de7"
    },
    {
      "metadata": {
        "id": "d8bcaacee3d1271d"
      },
      "cell_type": "code",
      "outputs": [],
      "execution_count": null,
      "source": [
        "def draw_network(G: nx.Graph) -> None:\n",
        "    pos = nx.spring_layout(G)\n",
        "    colors = ['red' if G.nodes[node]['op'] == 1 else 'blue' for node in G.nodes()]\n",
        "    nx.draw(G, pos, with_labels=True, node_color=colors)\n",
        "    plt.show()"
      ],
      "id": "d8bcaacee3d1271d"
    },
    {
      "metadata": {
        "id": "26afe5615fd045c0"
      },
      "cell_type": "code",
      "outputs": [],
      "execution_count": null,
      "source": [
        "def plot_opinions():\n",
        "    pass"
      ],
      "id": "26afe5615fd045c0"
    }
  ],
  "metadata": {
    "kernelspec": {
      "display_name": "Python 3",
      "language": "python",
      "name": "python3"
    },
    "language_info": {
      "codemirror_mode": {
        "name": "ipython",
        "version": 2
      },
      "file_extension": ".py",
      "mimetype": "text/x-python",
      "name": "python",
      "nbconvert_exporter": "python",
      "pygments_lexer": "ipython2",
      "version": "2.7.6"
    },
    "colab": {
      "provenance": [],
      "include_colab_link": true
    }
  },
  "nbformat": 4,
  "nbformat_minor": 5
}